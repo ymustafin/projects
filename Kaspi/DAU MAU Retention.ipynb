{
 "cells": [
  {
   "cell_type": "markdown",
   "id": "85408806",
   "metadata": {},
   "source": [
    "## MAU DAU\n",
    "\n",
    "Вопросы:\n",
    "\n",
    "1. Какой средний DAU в будние дни в сентябре?\n",
    "\n",
    "2. Какой средний DAU в выходные дни в сентябре?\n",
    "\n",
    "3. Какой MAU продукта X в сентябре?\n",
    "\n",
    "Для упрощения задачи за выходные дни примем субботу и воскресенье. Не берем в учет национальные праздники.\n",
    "\n",
    "Чтобы корректно посчитать MAU нам необходимо знать уникальное количество пользователей за месяц. Из исходных данных мы не можем достать уникальные идентификаторы клиентов, поэтому в данной задаче за MAU мы примем среднее количество пользователей за месяц."
   ]
  },
  {
   "cell_type": "code",
   "execution_count": 1,
   "id": "d5fd32b3",
   "metadata": {},
   "outputs": [],
   "source": [
    "import pandas as pd\n",
    "import numpy as np"
   ]
  },
  {
   "cell_type": "code",
   "execution_count": 9,
   "id": "b28a18fa",
   "metadata": {},
   "outputs": [],
   "source": [
    "df = pd.read_excel('Product Analyst DAU_MAU Task.xlsx')"
   ]
  },
  {
   "cell_type": "code",
   "execution_count": 10,
   "id": "5ea6b32d",
   "metadata": {},
   "outputs": [],
   "source": [
    "# для каждой даты определяем где будний день, а где выходной\n",
    "df['IS_WEEKEND'] = df['День'].apply(lambda x: 1 if x.weekday()>4 else 0)"
   ]
  },
  {
   "cell_type": "code",
   "execution_count": 11,
   "id": "1fc0196e",
   "metadata": {},
   "outputs": [],
   "source": [
    "# находим средний MAU в разрезе флага 'выходной день или нет'\n",
    "df_grouped = df.groupby('IS_WEEKEND').agg({'DAU':'mean'})"
   ]
  },
  {
   "cell_type": "code",
   "execution_count": 12,
   "id": "e35106e0",
   "metadata": {},
   "outputs": [],
   "source": [
    "# форматируем вывод данных чтобы избавиться от чисел формата 1e10\n",
    "df_grouped['DAU'] = round(df_grouped['DAU'])"
   ]
  },
  {
   "cell_type": "code",
   "execution_count": 13,
   "id": "552ef69e",
   "metadata": {},
   "outputs": [
    {
     "data": {
      "text/html": [
       "<div>\n",
       "<style scoped>\n",
       "    .dataframe tbody tr th:only-of-type {\n",
       "        vertical-align: middle;\n",
       "    }\n",
       "\n",
       "    .dataframe tbody tr th {\n",
       "        vertical-align: top;\n",
       "    }\n",
       "\n",
       "    .dataframe thead th {\n",
       "        text-align: right;\n",
       "    }\n",
       "</style>\n",
       "<table border=\"1\" class=\"dataframe\">\n",
       "  <thead>\n",
       "    <tr style=\"text-align: right;\">\n",
       "      <th></th>\n",
       "      <th>DAU</th>\n",
       "    </tr>\n",
       "    <tr>\n",
       "      <th>IS_WEEKEND</th>\n",
       "      <th></th>\n",
       "    </tr>\n",
       "  </thead>\n",
       "  <tbody>\n",
       "    <tr>\n",
       "      <th>0</th>\n",
       "      <td>1744061.0</td>\n",
       "    </tr>\n",
       "    <tr>\n",
       "      <th>1</th>\n",
       "      <td>1779175.0</td>\n",
       "    </tr>\n",
       "  </tbody>\n",
       "</table>\n",
       "</div>"
      ],
      "text/plain": [
       "                  DAU\n",
       "IS_WEEKEND           \n",
       "0           1744061.0\n",
       "1           1779175.0"
      ]
     },
     "execution_count": 13,
     "metadata": {},
     "output_type": "execute_result"
    }
   ],
   "source": [
    "df_grouped"
   ]
  },
  {
   "cell_type": "code",
   "execution_count": 18,
   "id": "33e1016c",
   "metadata": {},
   "outputs": [
    {
     "data": {
      "text/plain": [
       "1753425"
      ]
     },
     "execution_count": 18,
     "metadata": {},
     "output_type": "execute_result"
    }
   ],
   "source": [
    "round(df['DAU'].mean())"
   ]
  },
  {
   "cell_type": "markdown",
   "id": "62dd2d85",
   "metadata": {},
   "source": [
    "__Ответ:__\n",
    "\n",
    "Средний DAU в будние дни равен __1 744 061__ человек\n",
    "\n",
    "В выходные __1 779 175__ человек\n",
    "\n",
    "Разница в количестве пользователей между буднями и выходными __35 114__ человек\n",
    "\n",
    "MAU равен __1 753 425__ человек"
   ]
  },
  {
   "cell_type": "markdown",
   "id": "298d13f9",
   "metadata": {},
   "source": [
    "## Прогноз MAU"
   ]
  },
  {
   "cell_type": "code",
   "execution_count": 22,
   "id": "2d41af3a",
   "metadata": {},
   "outputs": [],
   "source": [
    "retention_rates = [1, 0.2053, 0.1812, 0.1715, 0.1595, 0.144, 0.14, 0.14, 0.14, 0.14, 0.14, 0.14, 0.14]\n",
    "\n",
    "\n",
    "\n",
    "new_customers = pd.DataFrame({'MONTH':range(1,11), \n",
    "                              'NEW_CUSTOMERS':[12000, 11500, 10000, 17000, 14350, 12200, 11100, 14784, 13347, 20220]})"
   ]
  },
  {
   "cell_type": "code",
   "execution_count": 30,
   "id": "ab544d25",
   "metadata": {},
   "outputs": [],
   "source": [
    "mau = 0 \n",
    "for rate, amount in zip(retention_rates, reversed(new_customers['NEW_CUSTOMERS'])):\n",
    "    mau += rate*amount"
   ]
  },
  {
   "cell_type": "code",
   "execution_count": 33,
   "id": "1ff660e4",
   "metadata": {},
   "outputs": [
    {
     "name": "stdout",
     "output_type": "stream",
     "text": [
      "В октябре MAU составил: 38625 человек\n"
     ]
    }
   ],
   "source": [
    "print('В октябре MAU составил:', round(mau), 'человек')"
   ]
  },
  {
   "cell_type": "markdown",
   "id": "aab79ea2",
   "metadata": {},
   "source": [
    "### Логика работы:\n",
    "\n",
    "Чтобы посчитать MAU нам нужно узнать сколько пользователей осталось пользоваться нашим продуктом из тех, которые пришли к нам в прошлых месяцах. Для примера те, кто пришли в октябре имеют retention rate 100%, потому что они только пришли, те кто пришли в сентябре имеют retention rate 20.53% (month 1) и т.д вплоть до тех кто пришли в январе. "
   ]
  }
 ],
 "metadata": {
  "kernelspec": {
   "display_name": "Python 3 (ipykernel)",
   "language": "python",
   "name": "python3"
  },
  "language_info": {
   "codemirror_mode": {
    "name": "ipython",
    "version": 3
   },
   "file_extension": ".py",
   "mimetype": "text/x-python",
   "name": "python",
   "nbconvert_exporter": "python",
   "pygments_lexer": "ipython3",
   "version": "3.10.9"
  }
 },
 "nbformat": 4,
 "nbformat_minor": 5
}
